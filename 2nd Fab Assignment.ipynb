{
 "cells": [
  {
   "cell_type": "markdown",
   "id": "d9de8d5f-5fe0-4de5-81db-ea9f7a65ea6d",
   "metadata": {
    "tags": []
   },
   "source": [
    "# 2nd Fab Assignment\n",
    "\n",
    "\n"
   ]
  },
  {
   "cell_type": "markdown",
   "id": "d192d819-988c-4d94-b406-124b831d0975",
   "metadata": {},
   "source": [
    "------------------------------------------------------------------------------------------------------------------------------------------------"
   ]
  },
  {
   "cell_type": "markdown",
   "id": "8dc8c36b-5444-4e32-a32a-d54cb10d54d3",
   "metadata": {},
   "source": [
    " Q.1 When to use for loop and while loop,explain with each of example."
   ]
  },
  {
   "cell_type": "markdown",
   "id": "4f12cfe0-608e-4cdd-bb40-5e1ed8de59e1",
   "metadata": {},
   "source": [
    "->If you know the number of iteration,you should use for loop.\n",
    "\n",
    "\n",
    "\n",
    "->If you don't know the number of iteration,you shold use while loop."
   ]
  },
  {
   "cell_type": "markdown",
   "id": "b46549d5-cb10-4dbb-87c4-ad5abc159c42",
   "metadata": {},
   "source": [
    "-> Example of for loop.\n",
    "Let's reverse the list."
   ]
  },
  {
   "cell_type": "code",
   "execution_count": 6,
   "id": "bf59f8cd-bc98-49ea-a94a-255ac65747a4",
   "metadata": {},
   "outputs": [
    {
     "name": "stdout",
     "output_type": "stream",
     "text": [
      "iter5\n",
      "iter4\n",
      "iter3\n",
      "iter2\n",
      "iter1\n"
     ]
    }
   ],
   "source": [
    "l=[\"iter1\",\"iter2\",\"iter3\",\"iter4\",\"iter5\"]\n",
    "\n",
    "for i in range(len(l)-1,-1,-1):\n",
    "    print(l[i])\n",
    "    "
   ]
  },
  {
   "cell_type": "markdown",
   "id": "c7773e82-8e9f-4898-874e-ec4b1d2efc9a",
   "metadata": {},
   "source": [
    "-> Example of while loop\n",
    "Let's find the factorial of n numbers."
   ]
  },
  {
   "cell_type": "code",
   "execution_count": 7,
   "id": "b0201424-5a4c-4f81-95cb-584495d25450",
   "metadata": {},
   "outputs": [
    {
     "name": "stdin",
     "output_type": "stream",
     "text": [
      "Enter the value: 5\n"
     ]
    },
    {
     "data": {
      "text/plain": [
       "120"
      ]
     },
     "execution_count": 7,
     "metadata": {},
     "output_type": "execute_result"
    }
   ],
   "source": [
    "n=int(input(\"Enter the value:\"))\n",
    "fact=1\n",
    "\n",
    "while n>0:\n",
    "    fact=fact*n\n",
    "    n=n-1\n",
    "fact"
   ]
  },
  {
   "cell_type": "markdown",
   "id": "2a378583-f8d7-4364-bbf1-770f214f1dde",
   "metadata": {},
   "source": [
    "------------------------------------------------------------------------------------------------------------------------------------------------"
   ]
  },
  {
   "cell_type": "markdown",
   "id": "bc237d13-cdb2-48f3-9a78-10b87e2f332c",
   "metadata": {},
   "source": [
    "Q2. Write a python program to print the sum and product of the first 10 natural numbers using for\n",
    "and while loop."
   ]
  },
  {
   "cell_type": "markdown",
   "id": "7709e24d-342b-4094-958e-255eb8e9fa13",
   "metadata": {},
   "source": [
    "-> Sum of 10 natural numbers using for loop.\n"
   ]
  },
  {
   "cell_type": "code",
   "execution_count": 44,
   "id": "205b13d3-90cc-4d63-a7cc-7affe2fef0a2",
   "metadata": {},
   "outputs": [
    {
     "name": "stdout",
     "output_type": "stream",
     "text": [
      "55\n"
     ]
    }
   ],
   "source": [
    "ans=0\n",
    "for i in range(1,11):\n",
    "    ans=ans+i\n",
    "print(ans)    \n",
    "   "
   ]
  },
  {
   "cell_type": "markdown",
   "id": "174b60be-5ba5-42e9-bc85-914b9d7dfe94",
   "metadata": {},
   "source": [
    "-> Sum of 10 natural numbers using while loop.\n"
   ]
  },
  {
   "cell_type": "code",
   "execution_count": 22,
   "id": "c4752a4a-42bb-45ad-b465-70c6e885f1d5",
   "metadata": {},
   "outputs": [
    {
     "data": {
      "text/plain": [
       "55"
      ]
     },
     "execution_count": 22,
     "metadata": {},
     "output_type": "execute_result"
    }
   ],
   "source": [
    "start=10\n",
    "summ=0\n",
    "\n",
    "while start>=1:\n",
    "    summ=summ+start\n",
    "    start=start-1\n",
    "summ"
   ]
  },
  {
   "cell_type": "markdown",
   "id": "06b37a68-6ed6-4760-9a6a-d1d775a3cbde",
   "metadata": {},
   "source": [
    "-> Product of 10 natural numbers using for loop."
   ]
  },
  {
   "cell_type": "code",
   "execution_count": 23,
   "id": "5cdcc4d8-273b-42d9-bb18-801839b8978a",
   "metadata": {},
   "outputs": [
    {
     "data": {
      "text/plain": [
       "3628800"
      ]
     },
     "execution_count": 23,
     "metadata": {},
     "output_type": "execute_result"
    }
   ],
   "source": [
    "prod=1\n",
    "\n",
    "for i in range(1,11):\n",
    "    prod=prod*i\n",
    "    i=i+1\n",
    "prod"
   ]
  },
  {
   "cell_type": "markdown",
   "id": "897852ed-f651-444b-b7a8-28112143c0b4",
   "metadata": {},
   "source": [
    "-> Product of 10 natural number using while loop.\n"
   ]
  },
  {
   "cell_type": "code",
   "execution_count": 24,
   "id": "249fb7d4-3a17-4e9b-a8b9-e1532072da1d",
   "metadata": {},
   "outputs": [
    {
     "data": {
      "text/plain": [
       "3628800"
      ]
     },
     "execution_count": 24,
     "metadata": {},
     "output_type": "execute_result"
    }
   ],
   "source": [
    "start=1\n",
    "prod=1\n",
    "\n",
    "while start<=10:\n",
    "    prod=prod*start\n",
    "    start=start+1\n",
    "prod"
   ]
  },
  {
   "cell_type": "markdown",
   "id": "a87d2e1e-cdf8-414f-b76a-a71924aa59ff",
   "metadata": {},
   "source": [
    "------------------------------------------------------------------------------------------------------------------------------------------------"
   ]
  },
  {
   "cell_type": "markdown",
   "id": "b21c23c6-e03e-449d-9e84-31f2f0cee28d",
   "metadata": {},
   "source": [
    "Q3. Create a python program to compute the electricity bill for a household.\n",
    "\n",
    "The per-unit charges in rupees are as follows: For the first 100 units, the user will be charged Rs. 4.5 per\n",
    "unit, for the next 100 units, the user will be charged Rs. 6 per unit, and for the next 100 units, the user will\n",
    "be charged Rs. 10 per unit, After 300 units and above the user will be charged Rs. 20 per unit.\n",
    "\n",
    "You are required to take the units of electricity consumed in a month from the user as input."
   ]
  },
  {
   "cell_type": "code",
   "execution_count": 14,
   "id": "d15b2b2e-cf7d-4612-94dc-e77a9b1e7d69",
   "metadata": {},
   "outputs": [
    {
     "name": "stdin",
     "output_type": "stream",
     "text": [
      "Enter the number of units consumed:  310\n"
     ]
    },
    {
     "name": "stdout",
     "output_type": "stream",
     "text": [
      "2250.0\n"
     ]
    }
   ],
   "source": [
    "units = int(input(\"Enter the number of units consumed: \"))\n",
    "\n",
    "\n",
    "if units <= 100:\n",
    "        bill = units * 4.5\n",
    "elif units <= 200:\n",
    "        bill = 100 * 4.5 + (units - 100) * 6\n",
    "elif units <= 300:\n",
    "        bill = 100 * 4.5 + 100 * 6 + (units - 200) * 10\n",
    "else:\n",
    "        bill = 100 * 4.5 + 100 * 6 + 100 * 10 + (units - 300) * 20\n",
    "print(bill)\n",
    "\n"
   ]
  },
  {
   "cell_type": "markdown",
   "id": "55377b2a-7bf6-47fc-8c35-f9065cacc8c6",
   "metadata": {},
   "source": [
    "------------------------------------------------------------------------------------------------------------------------------------------------"
   ]
  },
  {
   "cell_type": "markdown",
   "id": "2ca0e87f-59f6-4477-a813-cc4439fb8efd",
   "metadata": {},
   "source": [
    "Q4. Create a list of numbers from 1 to 100. Use for loop and while loop to calculate the cube of each\n",
    "number and if the cube of that number is divisible by 4 or 5 then append that number in a list and print\n",
    "that list."
   ]
  },
  {
   "cell_type": "markdown",
   "id": "0b07735f-7b84-49b9-8883-49d4ee65a51c",
   "metadata": {},
   "source": [
    "-> Cubes using for loop"
   ]
  },
  {
   "cell_type": "code",
   "execution_count": 27,
   "id": "1c743793-ec2a-4bdd-8b23-3a45cb4ca8f7",
   "metadata": {},
   "outputs": [
    {
     "name": "stdout",
     "output_type": "stream",
     "text": [
      "1\n",
      "8\n",
      "27\n",
      "64\n",
      "125\n",
      "216\n",
      "343\n",
      "512\n",
      "729\n",
      "1000\n",
      "1331\n",
      "1728\n",
      "2197\n",
      "2744\n",
      "3375\n",
      "4096\n",
      "4913\n",
      "5832\n",
      "6859\n",
      "8000\n",
      "9261\n",
      "10648\n",
      "12167\n",
      "13824\n",
      "15625\n",
      "17576\n",
      "19683\n",
      "21952\n",
      "24389\n",
      "27000\n",
      "29791\n",
      "32768\n",
      "35937\n",
      "39304\n",
      "42875\n",
      "46656\n",
      "50653\n",
      "54872\n",
      "59319\n",
      "64000\n",
      "68921\n",
      "74088\n",
      "79507\n",
      "85184\n",
      "91125\n",
      "97336\n",
      "103823\n",
      "110592\n",
      "117649\n",
      "125000\n",
      "132651\n",
      "140608\n",
      "148877\n",
      "157464\n",
      "166375\n",
      "175616\n",
      "185193\n",
      "195112\n",
      "205379\n",
      "216000\n",
      "226981\n",
      "238328\n",
      "250047\n",
      "262144\n",
      "274625\n",
      "287496\n",
      "300763\n",
      "314432\n",
      "328509\n",
      "343000\n",
      "357911\n",
      "373248\n",
      "389017\n",
      "405224\n",
      "421875\n",
      "438976\n",
      "456533\n",
      "474552\n",
      "493039\n",
      "512000\n",
      "531441\n",
      "551368\n",
      "571787\n",
      "592704\n",
      "614125\n",
      "636056\n",
      "658503\n",
      "681472\n",
      "704969\n",
      "729000\n",
      "753571\n",
      "778688\n",
      "804357\n",
      "830584\n",
      "857375\n",
      "884736\n",
      "912673\n",
      "941192\n",
      "970299\n",
      "1000000\n"
     ]
    },
    {
     "data": {
      "text/plain": [
       "[8,\n",
       " 64,\n",
       " 125,\n",
       " 216,\n",
       " 512,\n",
       " 1000,\n",
       " 1728,\n",
       " 2744,\n",
       " 3375,\n",
       " 4096,\n",
       " 5832,\n",
       " 8000,\n",
       " 10648,\n",
       " 13824,\n",
       " 15625,\n",
       " 17576,\n",
       " 21952,\n",
       " 27000,\n",
       " 32768,\n",
       " 39304,\n",
       " 42875,\n",
       " 46656,\n",
       " 54872,\n",
       " 64000,\n",
       " 74088,\n",
       " 85184,\n",
       " 91125,\n",
       " 97336,\n",
       " 110592,\n",
       " 125000,\n",
       " 140608,\n",
       " 157464,\n",
       " 166375,\n",
       " 175616,\n",
       " 195112,\n",
       " 216000,\n",
       " 238328,\n",
       " 262144,\n",
       " 274625,\n",
       " 287496,\n",
       " 314432,\n",
       " 343000,\n",
       " 373248,\n",
       " 405224,\n",
       " 421875,\n",
       " 438976,\n",
       " 474552,\n",
       " 512000,\n",
       " 551368,\n",
       " 592704,\n",
       " 614125,\n",
       " 636056,\n",
       " 681472,\n",
       " 729000,\n",
       " 778688,\n",
       " 830584,\n",
       " 857375,\n",
       " 884736,\n",
       " 941192,\n",
       " 1000000]"
      ]
     },
     "execution_count": 27,
     "metadata": {},
     "output_type": "execute_result"
    }
   ],
   "source": [
    "l=[]\n",
    "for i in range(1,101):\n",
    "    cube=i*i*i\n",
    "    print(cube)\n",
    "    if cube%4==0 or cube%5==0:\n",
    "        l.append(cube)\n",
    "    i=i+1\n",
    "l\n",
    "\n",
    "    "
   ]
  },
  {
   "cell_type": "markdown",
   "id": "981f4751-c4fd-4dd9-b18a-fa8ceb76e72c",
   "metadata": {},
   "source": [
    "-> Cubes using while loop"
   ]
  },
  {
   "cell_type": "code",
   "execution_count": 29,
   "id": "7dccabb2-1845-449e-96bf-428de77999e6",
   "metadata": {},
   "outputs": [
    {
     "name": "stdout",
     "output_type": "stream",
     "text": [
      "1\n",
      "8\n",
      "27\n",
      "64\n",
      "125\n",
      "216\n",
      "343\n",
      "512\n",
      "729\n",
      "1000\n",
      "1331\n",
      "1728\n",
      "2197\n",
      "2744\n",
      "3375\n",
      "4096\n",
      "4913\n",
      "5832\n",
      "6859\n",
      "8000\n",
      "9261\n",
      "10648\n",
      "12167\n",
      "13824\n",
      "15625\n",
      "17576\n",
      "19683\n",
      "21952\n",
      "24389\n",
      "27000\n",
      "29791\n",
      "32768\n",
      "35937\n",
      "39304\n",
      "42875\n",
      "46656\n",
      "50653\n",
      "54872\n",
      "59319\n",
      "64000\n",
      "68921\n",
      "74088\n",
      "79507\n",
      "85184\n",
      "91125\n",
      "97336\n",
      "103823\n",
      "110592\n",
      "117649\n",
      "125000\n",
      "132651\n",
      "140608\n",
      "148877\n",
      "157464\n",
      "166375\n",
      "175616\n",
      "185193\n",
      "195112\n",
      "205379\n",
      "216000\n",
      "226981\n",
      "238328\n",
      "250047\n",
      "262144\n",
      "274625\n",
      "287496\n",
      "300763\n",
      "314432\n",
      "328509\n",
      "343000\n",
      "357911\n",
      "373248\n",
      "389017\n",
      "405224\n",
      "421875\n",
      "438976\n",
      "456533\n",
      "474552\n",
      "493039\n",
      "512000\n",
      "531441\n",
      "551368\n",
      "571787\n",
      "592704\n",
      "614125\n",
      "636056\n",
      "658503\n",
      "681472\n",
      "704969\n",
      "729000\n",
      "753571\n",
      "778688\n",
      "804357\n",
      "830584\n",
      "857375\n",
      "884736\n",
      "912673\n",
      "941192\n",
      "970299\n",
      "1000000\n"
     ]
    },
    {
     "data": {
      "text/plain": [
       "[8,\n",
       " 64,\n",
       " 125,\n",
       " 216,\n",
       " 512,\n",
       " 1000,\n",
       " 1728,\n",
       " 2744,\n",
       " 3375,\n",
       " 4096,\n",
       " 5832,\n",
       " 8000,\n",
       " 10648,\n",
       " 13824,\n",
       " 15625,\n",
       " 17576,\n",
       " 21952,\n",
       " 27000,\n",
       " 32768,\n",
       " 39304,\n",
       " 42875,\n",
       " 46656,\n",
       " 54872,\n",
       " 64000,\n",
       " 74088,\n",
       " 85184,\n",
       " 91125,\n",
       " 97336,\n",
       " 110592,\n",
       " 125000,\n",
       " 140608,\n",
       " 157464,\n",
       " 166375,\n",
       " 175616,\n",
       " 195112,\n",
       " 216000,\n",
       " 238328,\n",
       " 262144,\n",
       " 274625,\n",
       " 287496,\n",
       " 314432,\n",
       " 343000,\n",
       " 373248,\n",
       " 405224,\n",
       " 421875,\n",
       " 438976,\n",
       " 474552,\n",
       " 512000,\n",
       " 551368,\n",
       " 592704,\n",
       " 614125,\n",
       " 636056,\n",
       " 681472,\n",
       " 729000,\n",
       " 778688,\n",
       " 830584,\n",
       " 857375,\n",
       " 884736,\n",
       " 941192,\n",
       " 1000000]"
      ]
     },
     "execution_count": 29,
     "metadata": {},
     "output_type": "execute_result"
    }
   ],
   "source": [
    "i=1\n",
    "l=[]\n",
    "while i<=100:\n",
    "    result=i*i*i\n",
    "    print(result)\n",
    "    if result%4==0 or result%5==0:\n",
    "        l.append(result)\n",
    "    i=i+1\n",
    "l\n",
    "    "
   ]
  },
  {
   "cell_type": "markdown",
   "id": "49ee5ada-fb0e-4919-b6dc-42246094acee",
   "metadata": {},
   "source": [
    "------------------------------------------------------------------------------------------------------------------------------------------------"
   ]
  },
  {
   "cell_type": "markdown",
   "id": "c94dff0d-5e6a-48c9-8d71-c5ac51bba200",
   "metadata": {},
   "source": [
    "Q5. Write a program to filter count vowels in the below-given string.\n",
    "string = \"I want to become a data scientist\""
   ]
  },
  {
   "cell_type": "code",
   "execution_count": 42,
   "id": "27f43876-2d10-4ac5-a720-23330b99e02d",
   "metadata": {},
   "outputs": [
    {
     "data": {
      "text/plain": [
       "12"
      ]
     },
     "execution_count": 42,
     "metadata": {},
     "output_type": "execute_result"
    }
   ],
   "source": [
    "count=0\n",
    "string = \"I want to become a data scientist\"\n",
    "\n",
    "for i in string:\n",
    "    if i==\"a\" or i==\"e\" or i==\"i\" or i==\"o\" or i==\"u\" or i==\"A\" or i==\"E\" or i==\"I\" or i==\"O\" or i==\"U\":\n",
    "        count=count+1\n",
    "    \n",
    "count"
   ]
  }
 ],
 "metadata": {
  "kernelspec": {
   "display_name": "Python 3 (ipykernel)",
   "language": "python",
   "name": "python3"
  },
  "language_info": {
   "codemirror_mode": {
    "name": "ipython",
    "version": 3
   },
   "file_extension": ".py",
   "mimetype": "text/x-python",
   "name": "python",
   "nbconvert_exporter": "python",
   "pygments_lexer": "ipython3",
   "version": "3.10.8"
  }
 },
 "nbformat": 4,
 "nbformat_minor": 5
}
